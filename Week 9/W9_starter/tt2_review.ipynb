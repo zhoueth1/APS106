{
 "cells": [
  {
   "cell_type": "markdown",
   "metadata": {
    "collapsed": true,
    "jupyter": {
     "outputs_hidden": true
    }
   },
   "source": [
    "# Review for Midterm"
   ]
  },
  {
   "cell_type": "markdown",
   "metadata": {},
   "source": [
    "**Q1**: What is the output when the following code is executed?"
   ]
  },
  {
   "cell_type": "code",
   "execution_count": null,
   "metadata": {},
   "outputs": [],
   "source": [
    "cars = ['Hyundai', 'Tesla', 'Ford', 'GM']\n",
    "print(cars[2][-1])"
   ]
  },
  {
   "cell_type": "markdown",
   "metadata": {},
   "source": [
    "1. d\n",
    "1. alseT\n",
    "1. Error\n",
    "1. droF\n",
    "1. a\n",
    "\n",
    "ANSWER: "
   ]
  },
  {
   "cell_type": "markdown",
   "metadata": {},
   "source": [
    "**Q2**: What is the type of the value returned by the function f2?"
   ]
  },
  {
   "cell_type": "code",
   "execution_count": null,
   "metadata": {},
   "outputs": [],
   "source": [
    "def f2():\n",
    "    print(True)"
   ]
  },
  {
   "cell_type": "markdown",
   "metadata": {},
   "source": [
    "1. float\n",
    "1. bool\n",
    "1. str\n",
    "1. NoneType \n",
    "1. none of the above\n",
    "\n",
    "ANSWER: "
   ]
  },
  {
   "cell_type": "markdown",
   "metadata": {},
   "source": [
    "**Q3**: What is the output?"
   ]
  },
  {
   "cell_type": "code",
   "execution_count": null,
   "metadata": {},
   "outputs": [],
   "source": [
    "import math\n",
    "\n",
    "def check_num(num):\n",
    "    if num % 2 == 0:\n",
    "        return False\n",
    "\n",
    "    root = int(math.sqrt(num))\n",
    "\n",
    "    for f in range(3,root+1,2):\n",
    "        if num % f == 0:\n",
    "            return False\n",
    "\n",
    "    return True\n",
    "\n",
    "for n in range(27, 30):\n",
    "    print(n, check_num(n))"
   ]
  },
  {
   "cell_type": "markdown",
   "metadata": {},
   "source": [
    "**Q4**: What is the output?\n",
    "\n",
    "(Hint: This code does not produce an error.)"
   ]
  },
  {
   "cell_type": "code",
   "execution_count": null,
   "metadata": {},
   "outputs": [],
   "source": [
    "course = \"APS106\"\n",
    "cut_from_start = True\n",
    "while \"P\" in course:\n",
    "    print(course)\n",
    "    if cut_from_start:\n",
    "        course = course[1:]\n",
    "    else:\n",
    "        course = course[:-1]\n",
    "\n",
    "    cut_from_start = not cut_from_start\n"
   ]
  },
  {
   "cell_type": "markdown",
   "metadata": {},
   "source": [
    "**Q5**: Write the code.\n",
    "\n",
    "Write a Python function that takes as input a list of tuples representing (x,y) points and returns a tuple (Xmean, Ymean) where Xmean is the mean (i.e., the arithmetic average) of the x-values and Ymean is the mean of the y-values. You can assume that the input is correct: a list of pairs of numbers."
   ]
  },
  {
   "cell_type": "code",
   "execution_count": null,
   "metadata": {},
   "outputs": [],
   "source": [
    "def calc_means(points):\n",
    "    '''\n",
    "    ([(num, num), (num, num), …]) -> (num,num)\n",
    "    Input: a list of tuples, each tuple representing a point\n",
    "    Output:  a tuple where each entry contains the mean of corresponding \n",
    "             entries in the input tuples (e.g., the first entry in the\n",
    "             returned tuple is the mean of the first entries in the input\n",
    "             tuples, etc.)\n",
    "    '''"
   ]
  },
  {
   "cell_type": "markdown",
   "metadata": {},
   "source": [
    "**Q6**: Write the code.\n",
    "\n",
    "Given a list of n points $(x_i,y_i)$, the line of best fit, $y=mx+b$, can be calculated as follows:\n",
    "\n",
    "$$m = \\frac{\\sum_{i=1}^n (x_i - X_{mean})(y_i - Y_{mean})}{\\sum_{i=1}^n (x_i - X_{mean})^2}$$\n",
    "\n",
    "$$b= Y_{mean} - m X_{mean}$$\n",
    "\n",
    "Where $X_{mean}$ and $Y_{mean}$ are the mean values of the $x_i$s and $y_i$s, respectively. \n",
    "\n",
    "Using the function you wrote above, write another Python function that takes as input a list of tuples representing (x,y) points and returns the slope and y-intercept of the best fit. You can assume that the input is correct: a list of pairs of numbers."
   ]
  },
  {
   "cell_type": "code",
   "execution_count": null,
   "metadata": {},
   "outputs": [],
   "source": [
    "def calc_line_of_best_fit(points):\n",
    "    '''\n",
    "    ([(num, num),(num, num), …]) -> (num, num)\n",
    "    Input: a list of tuples, each tuple representing a point\n",
    "    Output: a tuple containing the slope and y-intercept of the best\n",
    "    fit line for the points in the input list\n",
    "    '''\n",
    "    \n"
   ]
  },
  {
   "cell_type": "markdown",
   "metadata": {},
   "source": [
    "**Q7**: Write the code.\n",
    "\n",
    "Let `employee_software` be a dictionary of the following form:\n",
    "\n",
    "```\n",
    "{'Mary' : {'Word', 'Excel', 'Wing101'}, \n",
    " 'Sarah' : {'SolidWorks', 'PowerPoint'}, \n",
    " 'John' : {'MATLAB', 'Word', 'PowerPoint'}, \n",
    " 'Tom' : {'Wing101', 'SolidWorks'}}\n",
    "```\n",
    "The key is a string, corresponding to the name of an employee and the value is a set that contains strings, each string being the name of a piece of software that the employee is proficient in.\n",
    "\n",
    "In order to build teams for new projects, you want a data structure that allows you to quickly identify employees who are qualified on a given piece of software. Write a function that takes in the `employee_software` data structure and returns a dictionary that has the name of the software as the key and a set of employee names as the value. So the value corresponding to 'MATLAB' is the set of employees who can use MATLAB."
   ]
  },
  {
   "cell_type": "code",
   "execution_count": null,
   "metadata": {},
   "outputs": [],
   "source": [
    "def create_software_lookup(employees_to_software):\n",
    "    '''\n",
    "    ({str : {str, str, ...}}) -> {str : {str, str, ...}}\n",
    "    Input: a dictionary with employee names as keys and a software\n",
    "    expertise as values\n",
    "    Output: a dictionary with software as keys and employee names as\n",
    "    values\n",
    "    '''\n",
    "    # your code here\n",
    "\n",
    "employee_list = {'Mary' : {'Word', 'Excel', 'Wing101'}, \n",
    "                 'Sarah' : {'SolidWorks','PowerPoint'}, \n",
    "                 'John' : {'MATLAB', 'Word', 'PowerPoint'}, \n",
    "                 'Tom' : {'Wing101', 'SolidWorks'}}\n",
    "\n",
    "print(create_software_lookup(employee_list))"
   ]
  }
 ],
 "metadata": {
  "kernelspec": {
   "display_name": "Python 3 (ipykernel)",
   "language": "python",
   "name": "python3"
  },
  "language_info": {
   "codemirror_mode": {
    "name": "ipython",
    "version": 3
   },
   "file_extension": ".py",
   "mimetype": "text/x-python",
   "name": "python",
   "nbconvert_exporter": "python",
   "pygments_lexer": "ipython3",
   "version": "3.9.18"
  }
 },
 "nbformat": 4,
 "nbformat_minor": 4
}
